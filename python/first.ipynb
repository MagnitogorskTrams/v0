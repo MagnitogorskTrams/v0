{
 "cells": [
  {
   "cell_type": "code",
   "execution_count": 111,
   "metadata": {
    "collapsed": false,
    "scrolled": true
   },
   "outputs": [
    {
     "name": "stdout",
     "output_type": "stream",
     "text": [
      "b'<!DOCTYPE HTML PUBLIC \"-//W3C//DTD HTML 3.2 Final//EN\">\\n<html>\\n <head>\\n  <title>Index of /raspisanie</title>\\n </head>\\n <body>\\n<h1>Index of /raspisanie</h1>\\n<ul><li><a href=\"/\"> Parent Directory</a></li>\\n<li><a href=\"126mr.xls\"> 126mr.xls</a></li>\\n<li><a href=\"132mr.xls\"> 132mr.xls</a></li>\\n<li><a href=\"137mr.xls\"> 137mr.xls</a></li>\\n<li><a href=\"141mr.xls\"> 141mr.xls</a></li>\\n<li><a href=\"144mr.xls\"> 144mr.xls</a></li>\\n<li><a href=\"14u.xls\"> 14u.xls</a></li>\\n<li><a href=\"1gorbolnitsa.xls\"> 1gorbolnitsa.xls</a></li>\\n<li><a href=\"1palatca.xls\"> 1palatca.xls</a></li>\\n<li><a href=\"50lm.xls\"> 50lm.xls</a></li>\\n<li><a href=\"8marta.xls\"> 8marta.xls</a></li>\\n<li><a href=\"8prohodnaja.xls\"> 8prohodnaja.xls</a></li>\\n<li><a href=\"9jan.xls\"> 9jan.xls</a></li>\\n<li><a href=\"agapitova.xls\"> agapitova.xls</a></li>\\n<li><a href=\"avtobasa.xls\"> avtobasa.xls</a></li>\\n<li><a href=\"avtoschool.xls\"> avtoschool.xls</a></li>\\n<li><a href=\"bahmeteva.xls\"> bahmeteva.xls</a></li>\\n<li><a href=\"bashik.xls\"> bashik.xls</a></li>\\n<li><a href=\"beregovaja.xls\"> beregovaja.xls</a></li>\\n<li><a href=\"berezki.xls\"> berezki.xls</a></li>\\n<li><a href=\"betonstroy.xls\"> betonstroy.xls</a></li>\\n<li><a href=\"biblioteka.xls\"> biblioteka.xls</a></li>\\n<li><a href=\"botkina.xls\"> botkina.xls</a></li>\\n<li><a href=\"bronevaja.xls\"> bronevaja.xls</a></li>\\n<li><a href=\"brucheva.xls\"> brucheva.xls</a></li>\\n<li><a href=\"brusok.xls\"> brusok.xls</a></li>\\n<li><a href=\"burda.xls\"> burda.xls</a></li>\\n<li><a href=\"chaikovskogo.xls\"> chaikovskogo.xls</a></li>\\n<li><a href=\"chapaeva.xls\"> chapaeva.xls</a></li>\\n<li><a href=\"chekalina.xls\"> chekalina.xls</a></li>\\n<li><a href=\"chernjaxovskogo.xls\"> chernjaxovskogo.xls</a></li>\\n<li><a href=\"chernjaxvskogo.xls\"> chernjaxvskogo.xls</a></li>\\n<li><a href=\"cirk.xls\"> cirk.xls</a></li>\\n<li><a href=\"ddn.xls\"> ddn.xls</a></li>\\n<li><a href=\"dmitrova.xls\"> dmitrova.xls</a></li>\\n<li><a href=\"domenchikov.xls\"> domenchikov.xls</a></li>\\n<li><a href=\"dostoevskogo.xls\"> dostoevskogo.xls</a></li>\\n<li><a href=\"druzba.xls\"> druzba.xls</a></li>\\n<li><a href=\"dsporta.xls\"> dsporta.xls</a></li>\\n<li><a href=\"engelsa.xls\"> engelsa.xls</a></li>\\n<li><a href=\"frunze.xls\"> frunze.xls</a></li>\\n<li><a href=\"gagarina.xls\"> gagarina.xls</a></li>\\n<li><a href=\"galiullina.xls\"> galiullina.xls</a></li>\\n<li><a href=\"garagi.xls\"> garagi.xls</a></li>\\n<li><a href=\"gdvor.xls\"> gdvor.xls</a></li>\\n<li><a href=\"gpravda.xls\"> gpravda.xls</a></li>\\n<li><a href=\"gpugacheva.xls\"> gpugacheva.xls</a></li>\\n<li><a href=\"granitnaja.xls\"> granitnaja.xls</a></li>\\n<li><a href=\"graznova37.xls\"> graznova37.xls</a></li>\\n<li><a href=\"graznova4.xls\"> graznova4.xls</a></li>\\n<li><a href=\"griboedova.xls\"> griboedova.xls</a></li>\\n<li><a href=\"grjaznova.xls\"> grjaznova.xls</a></li>\\n<li><a href=\"himchistka.xls\"> himchistka.xls</a></li>\\n<li><a href=\"kalinina.xls\"> kalinina.xls</a></li>\\n<li><a href=\"kalmikova.xls\"> kalmikova.xls</a></li>\\n<li><a href=\"kazper.xls\"> kazper.xls</a></li>\\n<li><a href=\"kgorkogo.xls\"> kgorkogo.xls</a></li>\\n<li><a href=\"kirova.xls\"> kirova.xls</a></li>\\n<li><a href=\"kirova70.xls\"> kirova70.xls</a></li>\\n<li><a href=\"kkz.xls\"> kkz.xls</a></li>\\n<li><a href=\"km115.xls\"> km115.xls</a></li>\\n<li><a href=\"km55.xls\"> km55.xls</a></li>\\n<li><a href=\"km55len.xls\"> km55len.xls</a></li>\\n<li><a href=\"kmarksa.xls\"> kmarksa.xls</a></li>\\n<li><a href=\"komarova.xls\"> komarova.xls</a></li>\\n<li><a href=\"komsomolskaja.xls\"> komsomolskaja.xls</a></li>\\n<li><a href=\"komsomolskajapl.xls\"> komsomolskajapl.xls</a></li>\\n<li><a href=\"konservatorija.xls\"> konservatorija.xls</a></li>\\n<li><a href=\"korobova.xls\"> korobova.xls</a></li>\\n<li><a href=\"kp.xls\"> kp.xls</a></li>\\n<li><a href=\"krilova.xls\"> krilova.xls</a></li>\\n<li><a href=\"kuibicheva.xls\"> kuibicheva.xls</a></li>\\n<li><a href=\"kuranti.xls\"> kuranti.xls</a></li>\\n<li><a href=\"kuzbaskaja.xls\"> kuzbaskaja.xls</a></li>\\n<li><a href=\"lenina.xls\"> lenina.xls</a></li>\\n<li><a href=\"lesoparkovaja.xls\"> lesoparkovaja.xls</a></li>\\n<li><a href=\"lpz.xls\"> lpz.xls</a></li>\\n<li><a href=\"lugovaja.xls\"> lugovaja.xls</a></li>\\n<li><a href=\"magnitnaja.xls\"> magnitnaja.xls</a></li>\\n<li><a href=\"magnitostroy.xls\"> magnitostroy.xls</a></li>\\n<li><a href=\"majakovskogo.xls\"> majakovskogo.xls</a></li>\\n<li><a href=\"metallurgov.xls\"> metallurgov.xls</a></li>\\n<li><a href=\"mkz.xls\"> mkz.xls</a></li>\\n<li><a href=\"moskovskaja.xls\"> moskovskaja.xls</a></li>\\n<li><a href=\"most.xls\"> most.xls</a></li>\\n<li><a href=\"msch.xls\"> msch.xls</a></li>\\n<li><a href=\"novosevernij.xls\"> novosevernij.xls</a></li>\\n<li><a href=\"operteatr.xls\"> operteatr.xls</a></li>\\n<li><a href=\"ostrovskogo.xls\"> ostrovskogo.xls</a></li>\\n<li><a href=\"ovochex.xls\"> ovochex.xls</a></li>\\n<li><a href=\"persovets.xls\"> persovets.xls</a></li>\\n<li><a href=\"pervomayskaya.xls\"> pervomayskaya.xls</a></li>\\n<li><a href=\"pkomunalniy.xls\"> pkomunalniy.xls</a></li>\\n<li><a href=\"plavbaseyn.xls\"> plavbaseyn.xls</a></li>\\n<li><a href=\"plmira.xls\"> plmira.xls</a></li>\\n<li><a href=\"plnosova.xls\"> plnosova.xls</a></li>\\n<li><a href=\"plsverdlova.xls\"> plsverdlova.xls</a></li>\\n<li><a href=\"plviktory.xls\"> plviktory.xls</a></li>\\n<li><a href=\"polevaja.xls\"> polevaja.xls</a></li>\\n<li><a href=\"politexkoledg.xls\"> politexkoledg.xls</a></li>\\n<li><a href=\"profsouz.xls\"> profsouz.xls</a></li>\\n<li><a href=\"prokatmontaj.xls\"> prokatmontaj.xls</a></li>\\n<li><a href=\"rembasa.xls\"> rembasa.xls</a></li>\\n<li><a href=\"ris.xls\"> ris.xls</a></li>\\n<li><a href=\"romanova.xls\"> romanova.xls</a></li>\\n<li><a href=\"romasan.xls\"> romasan.xls</a></li>\\n<li><a href=\"schedrina.xls\"> schedrina.xls</a></li>\\n<li><a href=\"shiska.xls\"> shiska.xls</a></li>\\n<li><a href=\"sosna.xls\"> sosna.xls</a></li>\\n<li><a href=\"sovarm.xls\"> sovarm.xls</a></li>\\n<li><a href=\"sovetskaja.xls\"> sovetskaja.xls</a></li>\\n<li><a href=\"sputnik.xls\"> sputnik.xls</a></li>\\n<li><a href=\"sredneuralskaja.xls\"> sredneuralskaja.xls</a></li>\\n<li><a href=\"stalevarov.xls\"> stalevarov.xls</a></li>\\n<li><a href=\"stan.xls\"> stan.xls</a></li>\\n<li><a href=\"stmagnitka.xls\"> stmagnitka.xls</a></li>\\n<li><a href=\"stroiteley.xls\"> stroiteley.xls</a></li>\\n<li><a href=\"suvorova.xls\"> suvorova.xls</a></li>\\n<li><a href=\"tamoznja.xls\"> tamoznja.xls</a></li>\\n<li><a href=\"tevosyana.xls\"> tevosyana.xls</a></li>\\n<li><a href=\"tez.xls\"> tez.xls</a></li>\\n<li><a href=\"timirjazeva.xls\"> timirjazeva.xls</a></li>\\n<li><a href=\"tovarnaja.xls\"> tovarnaja.xls</a></li>\\n<li><a href=\"trubnaja.xls\"> trubnaja.xls</a></li>\\n<li><a href=\"truda.xls\"> truda.xls</a></li>\\n<li><a href=\"truda25.xls\"> truda25.xls</a></li>\\n<li><a href=\"tss.xls\"> tss.xls</a></li>\\n<li><a href=\"uchi53.xls\"> uchi53.xls</a></li>\\n<li><a href=\"unost.xls\"> unost.xls</a></li>\\n<li><a href=\"uzper.xls\"> uzper.xls</a></li>\\n<li><a href=\"vokzal.xls\"> vokzal.xls</a></li>\\n<li><a href=\"xramv.xls\"> xramv.xls</a></li>\\n<li><a href=\"xshool.xls\"> xshool.xls</a></li>\\n<li><a href=\"zavenjagina.xls\"> zavenjagina.xls</a></li>\\n<li><a href=\"zelrinok.xls\"> zelrinok.xls</a></li>\\n<li><a href=\"zl.xls\"> zl.xls</a></li>\\n<li><a href=\"zperehod.xls\"> zperehod.xls</a></li>\\n<li><a href=\"zrinok.xls\"> zrinok.xls</a></li>\\n<li><a href=\"zukova.xls\"> zukova.xls</a></li>\\n</ul>\\n<address>Apache/2.4.17 (FreeBSD) PHP/5.6.16 Server at www.maggortrans.ru Port 80</address>\\n</body></html>\\n'\n"
     ]
    }
   ],
   "source": [
    "import curl,re\n",
    "#import urllib2, urllib\n",
    "\n",
    "r=curl.Curl('http://www.maggortrans.ru/raspisanie/')\n",
    "r.get()\n",
    "b=r.body()\n",
    "print (b)"
   ]
  },
  {
   "cell_type": "markdown",
   "metadata": {},
   "source": [
    "## Использование регулярных выражений в Python для новичков\n",
    "https://tproger.ru/translations/regular-expression-python/"
   ]
  },
  {
   "cell_type": "code",
   "execution_count": 126,
   "metadata": {
    "collapsed": false
   },
   "outputs": [
    {
     "name": "stdout",
     "output_type": "stream",
     "text": [
      "http://www.maggortrans.ru/raspisanie/126mr.xls\n",
      "http://www.maggortrans.ru/raspisanie/132mr.xls\n",
      "http://www.maggortrans.ru/raspisanie/137mr.xls\n",
      "http://www.maggortrans.ru/raspisanie/141mr.xls\n",
      "http://www.maggortrans.ru/raspisanie/144mr.xls\n",
      "http://www.maggortrans.ru/raspisanie/14u.xls\n",
      "http://www.maggortrans.ru/raspisanie/1gorbolnitsa.xls\n",
      "http://www.maggortrans.ru/raspisanie/1palatca.xls\n",
      "http://www.maggortrans.ru/raspisanie/50lm.xls\n",
      "http://www.maggortrans.ru/raspisanie/8marta.xls\n",
      "http://www.maggortrans.ru/raspisanie/8prohodnaja.xls\n",
      "http://www.maggortrans.ru/raspisanie/9jan.xls\n",
      "http://www.maggortrans.ru/raspisanie/agapitova.xls\n",
      "http://www.maggortrans.ru/raspisanie/avtobasa.xls\n",
      "http://www.maggortrans.ru/raspisanie/avtoschool.xls\n",
      "http://www.maggortrans.ru/raspisanie/bahmeteva.xls\n",
      "http://www.maggortrans.ru/raspisanie/bashik.xls\n",
      "http://www.maggortrans.ru/raspisanie/beregovaja.xls\n",
      "http://www.maggortrans.ru/raspisanie/berezki.xls\n",
      "http://www.maggortrans.ru/raspisanie/betonstroy.xls\n",
      "http://www.maggortrans.ru/raspisanie/biblioteka.xls\n",
      "http://www.maggortrans.ru/raspisanie/botkina.xls\n",
      "http://www.maggortrans.ru/raspisanie/bronevaja.xls\n",
      "http://www.maggortrans.ru/raspisanie/brucheva.xls\n",
      "http://www.maggortrans.ru/raspisanie/brusok.xls\n",
      "http://www.maggortrans.ru/raspisanie/burda.xls\n",
      "http://www.maggortrans.ru/raspisanie/chaikovskogo.xls\n",
      "http://www.maggortrans.ru/raspisanie/chapaeva.xls\n",
      "http://www.maggortrans.ru/raspisanie/chekalina.xls\n",
      "http://www.maggortrans.ru/raspisanie/chernjaxovskogo.xls\n",
      "http://www.maggortrans.ru/raspisanie/chernjaxvskogo.xls\n",
      "http://www.maggortrans.ru/raspisanie/cirk.xls\n",
      "http://www.maggortrans.ru/raspisanie/ddn.xls\n",
      "http://www.maggortrans.ru/raspisanie/dmitrova.xls\n",
      "http://www.maggortrans.ru/raspisanie/domenchikov.xls\n",
      "http://www.maggortrans.ru/raspisanie/dostoevskogo.xls\n",
      "http://www.maggortrans.ru/raspisanie/druzba.xls\n",
      "http://www.maggortrans.ru/raspisanie/dsporta.xls\n",
      "http://www.maggortrans.ru/raspisanie/engelsa.xls\n",
      "http://www.maggortrans.ru/raspisanie/frunze.xls\n",
      "http://www.maggortrans.ru/raspisanie/gagarina.xls\n",
      "http://www.maggortrans.ru/raspisanie/galiullina.xls\n",
      "http://www.maggortrans.ru/raspisanie/garagi.xls\n",
      "http://www.maggortrans.ru/raspisanie/gdvor.xls\n",
      "http://www.maggortrans.ru/raspisanie/gpravda.xls\n",
      "http://www.maggortrans.ru/raspisanie/gpugacheva.xls\n",
      "http://www.maggortrans.ru/raspisanie/granitnaja.xls\n",
      "http://www.maggortrans.ru/raspisanie/graznova37.xls\n",
      "http://www.maggortrans.ru/raspisanie/graznova4.xls\n",
      "http://www.maggortrans.ru/raspisanie/griboedova.xls\n",
      "http://www.maggortrans.ru/raspisanie/grjaznova.xls\n",
      "http://www.maggortrans.ru/raspisanie/himchistka.xls\n",
      "http://www.maggortrans.ru/raspisanie/kalinina.xls\n",
      "http://www.maggortrans.ru/raspisanie/kalmikova.xls\n",
      "http://www.maggortrans.ru/raspisanie/kazper.xls\n",
      "http://www.maggortrans.ru/raspisanie/kgorkogo.xls\n",
      "http://www.maggortrans.ru/raspisanie/kirova.xls\n",
      "http://www.maggortrans.ru/raspisanie/kirova70.xls\n",
      "http://www.maggortrans.ru/raspisanie/kkz.xls\n",
      "http://www.maggortrans.ru/raspisanie/km115.xls\n",
      "http://www.maggortrans.ru/raspisanie/km55.xls\n",
      "http://www.maggortrans.ru/raspisanie/km55len.xls\n",
      "http://www.maggortrans.ru/raspisanie/kmarksa.xls\n",
      "http://www.maggortrans.ru/raspisanie/komarova.xls\n",
      "http://www.maggortrans.ru/raspisanie/komsomolskaja.xls\n",
      "http://www.maggortrans.ru/raspisanie/komsomolskajapl.xls\n",
      "http://www.maggortrans.ru/raspisanie/konservatorija.xls\n",
      "http://www.maggortrans.ru/raspisanie/korobova.xls\n",
      "http://www.maggortrans.ru/raspisanie/kp.xls\n",
      "http://www.maggortrans.ru/raspisanie/krilova.xls\n",
      "http://www.maggortrans.ru/raspisanie/kuibicheva.xls\n",
      "http://www.maggortrans.ru/raspisanie/kuranti.xls\n",
      "http://www.maggortrans.ru/raspisanie/kuzbaskaja.xls\n",
      "http://www.maggortrans.ru/raspisanie/lenina.xls\n",
      "http://www.maggortrans.ru/raspisanie/lesoparkovaja.xls\n",
      "http://www.maggortrans.ru/raspisanie/lpz.xls\n",
      "http://www.maggortrans.ru/raspisanie/lugovaja.xls\n",
      "http://www.maggortrans.ru/raspisanie/magnitnaja.xls\n",
      "http://www.maggortrans.ru/raspisanie/magnitostroy.xls\n",
      "http://www.maggortrans.ru/raspisanie/majakovskogo.xls\n",
      "http://www.maggortrans.ru/raspisanie/metallurgov.xls\n",
      "http://www.maggortrans.ru/raspisanie/mkz.xls\n",
      "http://www.maggortrans.ru/raspisanie/moskovskaja.xls\n",
      "http://www.maggortrans.ru/raspisanie/most.xls\n",
      "http://www.maggortrans.ru/raspisanie/msch.xls\n",
      "http://www.maggortrans.ru/raspisanie/novosevernij.xls\n",
      "http://www.maggortrans.ru/raspisanie/operteatr.xls\n",
      "http://www.maggortrans.ru/raspisanie/ostrovskogo.xls\n",
      "http://www.maggortrans.ru/raspisanie/ovochex.xls\n",
      "http://www.maggortrans.ru/raspisanie/persovets.xls\n",
      "http://www.maggortrans.ru/raspisanie/pervomayskaya.xls\n",
      "http://www.maggortrans.ru/raspisanie/pkomunalniy.xls\n",
      "http://www.maggortrans.ru/raspisanie/plavbaseyn.xls\n",
      "http://www.maggortrans.ru/raspisanie/plmira.xls\n",
      "http://www.maggortrans.ru/raspisanie/plnosova.xls\n",
      "http://www.maggortrans.ru/raspisanie/plsverdlova.xls\n",
      "http://www.maggortrans.ru/raspisanie/plviktory.xls\n",
      "http://www.maggortrans.ru/raspisanie/polevaja.xls\n",
      "http://www.maggortrans.ru/raspisanie/politexkoledg.xls\n",
      "http://www.maggortrans.ru/raspisanie/profsouz.xls\n",
      "http://www.maggortrans.ru/raspisanie/prokatmontaj.xls\n",
      "http://www.maggortrans.ru/raspisanie/rembasa.xls\n",
      "http://www.maggortrans.ru/raspisanie/ris.xls\n",
      "http://www.maggortrans.ru/raspisanie/romanova.xls\n",
      "http://www.maggortrans.ru/raspisanie/romasan.xls\n",
      "http://www.maggortrans.ru/raspisanie/schedrina.xls\n",
      "http://www.maggortrans.ru/raspisanie/shiska.xls\n",
      "http://www.maggortrans.ru/raspisanie/sosna.xls\n",
      "http://www.maggortrans.ru/raspisanie/sovarm.xls\n",
      "http://www.maggortrans.ru/raspisanie/sovetskaja.xls\n",
      "http://www.maggortrans.ru/raspisanie/sputnik.xls\n",
      "http://www.maggortrans.ru/raspisanie/sredneuralskaja.xls\n",
      "http://www.maggortrans.ru/raspisanie/stalevarov.xls\n",
      "http://www.maggortrans.ru/raspisanie/stan.xls\n",
      "http://www.maggortrans.ru/raspisanie/stmagnitka.xls\n",
      "http://www.maggortrans.ru/raspisanie/stroiteley.xls\n",
      "http://www.maggortrans.ru/raspisanie/suvorova.xls\n",
      "http://www.maggortrans.ru/raspisanie/tamoznja.xls\n",
      "http://www.maggortrans.ru/raspisanie/tevosyana.xls\n",
      "http://www.maggortrans.ru/raspisanie/tez.xls\n",
      "http://www.maggortrans.ru/raspisanie/timirjazeva.xls\n",
      "http://www.maggortrans.ru/raspisanie/tovarnaja.xls\n",
      "http://www.maggortrans.ru/raspisanie/trubnaja.xls\n",
      "http://www.maggortrans.ru/raspisanie/truda.xls\n",
      "http://www.maggortrans.ru/raspisanie/truda25.xls\n",
      "http://www.maggortrans.ru/raspisanie/tss.xls\n",
      "http://www.maggortrans.ru/raspisanie/uchi53.xls\n",
      "http://www.maggortrans.ru/raspisanie/unost.xls\n",
      "http://www.maggortrans.ru/raspisanie/uzper.xls\n",
      "http://www.maggortrans.ru/raspisanie/vokzal.xls\n",
      "http://www.maggortrans.ru/raspisanie/xramv.xls\n",
      "http://www.maggortrans.ru/raspisanie/xshool.xls\n",
      "http://www.maggortrans.ru/raspisanie/zavenjagina.xls\n",
      "http://www.maggortrans.ru/raspisanie/zelrinok.xls\n",
      "http://www.maggortrans.ru/raspisanie/zl.xls\n",
      "http://www.maggortrans.ru/raspisanie/zperehod.xls\n",
      "http://www.maggortrans.ru/raspisanie/zrinok.xls\n",
      "http://www.maggortrans.ru/raspisanie/zukova.xls\n"
     ]
    }
   ],
   "source": [
    "bu=\"http://www.maggortrans.ru/raspisanie/\"\n",
    "h=re.findall(b'href=\"(\\w+.xls)\"', b)\n",
    "if h is None:\n",
    "    print ('No matches')\n",
    "else:\n",
    "    for f in h:\n",
    "        print(bu+f.strip().decode('utf-8'))"
   ]
  },
  {
   "cell_type": "markdown",
   "metadata": {},
   "source": [
    "## Как настроить прокси\n",
    "https://www.jayakumar.org/linux/how-to-configure-httphttps-proxy-for-ipython-notebook-server/"
   ]
  },
  {
   "cell_type": "code",
   "execution_count": 109,
   "metadata": {
    "collapsed": true
   },
   "outputs": [],
   "source": [
    "import sys,os,os.path\n",
    "os.environ['HTTP_PROXY']=\"http://161.8.100.200:8080\"\n",
    "os.environ['HTTPS_PROXY']=\"http://161.8.100.200:443\"\n",
    "#%env"
   ]
  },
  {
   "cell_type": "code",
   "execution_count": 110,
   "metadata": {
    "collapsed": false
   },
   "outputs": [
    {
     "data": {
      "text/plain": [
       "<Response [200]>"
      ]
     },
     "execution_count": 110,
     "metadata": {},
     "output_type": "execute_result"
    }
   ],
   "source": [
    "import requests\n",
    "requests.get(\"http://www.maggortrans.ru/raspisanie/\")"
   ]
  },
  {
   "cell_type": "code",
   "execution_count": null,
   "metadata": {
    "collapsed": true
   },
   "outputs": [],
   "source": []
  }
 ],
 "metadata": {
  "kernelspec": {
   "display_name": "Python 3",
   "language": "python",
   "name": "python3"
  },
  "language_info": {
   "codemirror_mode": {
    "name": "ipython",
    "version": 3
   },
   "file_extension": ".py",
   "mimetype": "text/x-python",
   "name": "python",
   "nbconvert_exporter": "python",
   "pygments_lexer": "ipython3",
   "version": "3.5.1"
  }
 },
 "nbformat": 4,
 "nbformat_minor": 0
}
